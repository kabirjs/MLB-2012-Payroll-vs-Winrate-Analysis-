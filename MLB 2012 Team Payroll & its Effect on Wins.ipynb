{
 "cells": [
  {
   "cell_type": "code",
   "execution_count": 22,
   "id": "f67825d5",
   "metadata": {},
   "outputs": [
    {
     "name": "stdout",
     "output_type": "stream",
     "text": [
      "            Team  Payroll  Wins\n",
      "0      Nationals    81.34    98\n",
      "1           Reds    82.20    97\n",
      "2        Yankees   197.96    95\n",
      "3         Giants   117.62    94\n",
      "4         Braves    83.31    94\n",
      "5      Athletics    55.37    94\n",
      "6        Rangers   120.51    93\n",
      "7        Orioles    81.43    93\n",
      "8           Rays    64.17    90\n",
      "9         Angels   154.49    89\n",
      "10        Tigers   132.30    88\n",
      "11     Cardinals   110.30    88\n",
      "12       Dodgers    95.14    86\n",
      "13     White Sox    96.92    85\n",
      "14       Brewers    97.65    83\n",
      "15      Phillies   174.54    81\n",
      "16  Diamondbacks    74.28    81\n",
      "17       Pirates    63.43    79\n",
      "18        Padres    55.24    76\n",
      "19      Mariners    81.97    75\n",
      "20          Mets    93.35    74\n",
      "21     Blue Jays    75.48    73\n",
      "22        Royals    60.91    72\n",
      "23       Marlins   118.07    69\n",
      "24       Red Sox   173.18    69\n",
      "25       Indians    78.43    68\n",
      "26         Twins    94.08    66\n",
      "27       Rockies    78.06    64\n",
      "28          Cubs    88.19    61\n",
      "29        Astros    60.65    55\n",
      "\n",
      "Mean Payroll:  98.019\n",
      "Mean Wins   :  81\n",
      "\n",
      "Type A teams: Spent above average money with above average success\n",
      "Team       Payroll(M) Wins\n",
      "Yankees    197.96     95\n",
      "Giants     117.62     94\n",
      "Rangers    120.51     93\n",
      "Angels     154.49     89\n",
      "Tigers     132.30     88\n",
      "Cardinals  110.30     88\n",
      "\n",
      "Type B teams: Spent above average money with below average success\n",
      "Team       Payroll(M) Wins\n",
      "Marlins    118.07     69\n",
      "Red Sox    173.18     69\n",
      "\n",
      "Type C teams: Spent below average money with above average success\n",
      "Team       Payroll(M) Wins\n",
      "Nationals   81.34     98\n",
      "Reds        82.20     97\n",
      "Braves      83.31     94\n",
      "Athletics   55.37     94\n",
      "Orioles     81.43     93\n",
      "Rays        64.17     90\n",
      "Dodgers     95.14     86\n",
      "White Sox   96.92     85\n",
      "Brewers     97.65     83\n",
      "\n",
      "Type D teams: Spent below average money with below average success\n",
      "Team       Payroll(M) Wins\n",
      "Pirates     63.43     79\n",
      "Padres      55.24     76\n",
      "Mariners    81.97     75\n",
      "Mets        93.35     74\n",
      "Blue Jays   75.48     73\n",
      "Royals      60.91     72\n",
      "Indians     78.43     68\n",
      "Twins       94.08     66\n",
      "Rockies     78.06     64\n",
      "Cubs        88.19     61\n",
      "Astros      60.65     55\n"
     ]
    }
   ],
   "source": [
    "import pandas as pd\n",
    "import numpy as np\n",
    "import statistics\n",
    # INSERT OWN PATH "mlbData = pd.read_csv(r'PATH\mlb_teams_2012.csv')\n",
    "mlbData.columns = ['Team', 'Payroll', 'Wins']\n",
    "\n",
    "print(mlbData)\n",
    "print()\n",
    "\n",
    "meanPayroll = statistics.mean(mlbData.Payroll)\n",
    "meanWins = statistics.mean(mlbData.Wins)\n",
    "\n",
    "print(\"Mean Payroll: \", meanPayroll)\n",
    "print(\"Mean Wins   : \", meanWins)\n",
    "print()\n",
    "\n",
    "typeA = []\n",
    "typeB = []\n",
    "typeC = []\n",
    "typeD = []\n",
    "\n",
    "for i, row in mlbData.iterrows():\n",
    "    if(row.Payroll > meanPayroll and row.Wins > meanWins):\n",
    "        typeA.append(row)\n",
    "    elif(row.Payroll > meanPayroll and row.Wins < meanWins):\n",
    "        typeB.append(row)\n",
    "    elif(row.Payroll < meanPayroll and row.Wins > meanWins):\n",
    "        typeC.append(row)\n",
    "    elif(row.Payroll < meanPayroll and row.Wins < meanWins):\n",
    "        typeD.append(row)\n",
    "        \n",
    "print(\"Type A teams: Spent above average money with above average success\")\n",
    "print('{:10s} {:10s} {:3s}'.format(\"Team\", \"Payroll(M)\", \"Wins\"))\n",
    "for i in typeA:\n",
    "    print('{:10s} {:6.2f} {:6d}'.format(i.Team, i.Payroll, i.Wins))\n",
    "    \n",
    "print()\n",
    "print(\"Type B teams: Spent above average money with below average success\")\n",
    "print('{:10s} {:10s} {:3s}'.format(\"Team\", \"Payroll(M)\", \"Wins\"))\n",
    "for i in typeB:\n",
    "    print('{:10s} {:6.2f} {:6d}'.format(i.Team, i.Payroll, i.Wins))\n",
    "    \n",
    "print()\n",
    "print(\"Type C teams: Spent below average money with above average success\")\n",
    "print('{:10s} {:10s} {:3s}'.format(\"Team\", \"Payroll(M)\", \"Wins\"))\n",
    "for i in typeC:\n",
    "    print('{:10s} {:6.2f} {:6d}'.format(i.Team, i.Payroll, i.Wins))\n",
    "    \n",
    "print()\n",
    "print(\"Type D teams: Spent below average money with below average success\")\n",
    "print('{:10s} {:10s} {:3s}'.format(\"Team\", \"Payroll(M)\", \"Wins\"))\n",
    "for i in typeD:\n",
    "    print('{:10s} {:6.2f} {:6d}'.format(i.Team, i.Payroll, i.Wins))"
   ]
  },
  {
   "cell_type": "code",
   "execution_count": 23,
   "id": "8ff253d6",
   "metadata": {},
   "outputs": [
    {
     "data": {
      "text/plain": [
       "Text(0.5, 0, 'Payroll (Millions)')"
      ]
     },
     "execution_count": 23,
     "metadata": {},
     "output_type": "execute_result"
    },
    {
     "data": {
      "image/png": "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\n",
      "text/plain": [
       "<Figure size 432x288 with 1 Axes>"
      ]
     },
     "metadata": {
      "needs_background": "light"
     },
     "output_type": "display_data"
    }
   ],
   "source": [
    "# Boxplot For Payroll Data\n",
    "payrollData = (mlbData.Payroll).to_frame()\n",
    "box1 = payrollData.boxplot(vert=False)\n",
    "box1.set_title(\"MLB Payroll 2012 (Millions)\")\n",
    "box1.set_xlabel(\"Payroll (Millions)\")"
   ]
  },
  {
   "cell_type": "code",
   "execution_count": 25,
   "id": "62eee38b",
   "metadata": {},
   "outputs": [
    {
     "data": {
      "text/plain": [
       "Text(0.5, 0, 'Wins (Regular Season)')"
      ]
     },
     "execution_count": 25,
     "metadata": {},
     "output_type": "execute_result"
    },
    {
     "data": {
      "image/png": "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\n",
      "text/plain": [
       "<Figure size 432x288 with 1 Axes>"
      ]
     },
     "metadata": {
      "needs_background": "light"
     },
     "output_type": "display_data"
    }
   ],
   "source": [
    "# Boxplot For Wins Data\n",
    "winsData = (mlbData.Wins).to_frame()\n",
    "box2 = winsData.boxplot(vert=False)\n",
    "box2.set_title(\"MLB Wins 2012\")\n",
    "box2.set_xlabel(\"Wins (Regular Season)\")"
   ]
  },
  {
   "cell_type": "code",
   "execution_count": 26,
   "id": "af9b1af3",
   "metadata": {},
   "outputs": [
    {
     "data": {
      "text/plain": [
       "<matplotlib.legend.Legend at 0x20646834b80>"
      ]
     },
     "execution_count": 26,
     "metadata": {},
     "output_type": "execute_result"
    },
    {
     "data": {
      "image/png": "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\n",
      "text/plain": [
       "<Figure size 432x288 with 1 Axes>"
      ]
     },
     "metadata": {
      "needs_background": "light"
     },
     "output_type": "display_data"
    }
   ],
   "source": [
    "# Scatter Plot for Different Groups\n",
    "TAData = pd.DataFrame(typeA)\n",
    "TBData = pd.DataFrame(typeB)\n",
    "TCData = pd.DataFrame(typeC)\n",
    "TDData = pd.DataFrame(typeD)\n",
    "\n",
    "axA = TAData.plot(kind = 'scatter', x = 'Payroll', y = 'Wins', color = 'r')\n",
    "axB = TBData.plot(kind = 'scatter', x = 'Payroll', y = 'Wins', color = 'g', ax=axA)\n",
    "axC = TCData.plot(kind = 'scatter', x = 'Payroll', y = 'Wins', color = 'b', ax=axA)\n",
    "axD = TDData.plot(kind = 'scatter', x = 'Payroll', y = 'Wins', color = 'y', ax=axA)\n",
    "\n",
    "axA.set_title(\"MLB 2012 Payroll(Millions) vs. Number of Wins\")\n",
    "axA.set_xlabel(\"Payroll (Millions)\")\n",
    "axA.set_ylabel(\"Number of Wins in 2012 Season\")\n",
    "\n",
    "axA.legend(['Type A', 'Type B', 'Type C', 'Type D'])"
   ]
  }
 ],
 "metadata": {
  "kernelspec": {
   "display_name": "Python 3",
   "language": "python",
   "name": "python3"
  },
  "language_info": {
   "codemirror_mode": {
    "name": "ipython",
    "version": 3
   },
   "file_extension": ".py",
   "mimetype": "text/x-python",
   "name": "python",
   "nbconvert_exporter": "python",
   "pygments_lexer": "ipython3",
   "version": "3.8.8"
  }
 },
 "nbformat": 4,
 "nbformat_minor": 5
}
