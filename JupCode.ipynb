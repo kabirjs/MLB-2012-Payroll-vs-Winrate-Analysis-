{
 "cells": [
  {
   "cell_type": "code",
   "execution_count": 1,
   "id": "f67825d5",
   "metadata": {},
   "outputs": [
    {
     "name": "stdout",
     "output_type": "stream",
     "text": [
      "            Team  Payroll  Wins\n",
      "0      Nationals    81.34    98\n",
      "1           Reds    82.20    97\n",
      "2        Yankees   197.96    95\n",
      "3         Giants   117.62    94\n",
      "4         Braves    83.31    94\n",
      "5      Athletics    55.37    94\n",
      "6        Rangers   120.51    93\n",
      "7        Orioles    81.43    93\n",
      "8           Rays    64.17    90\n",
      "9         Angels   154.49    89\n",
      "10        Tigers   132.30    88\n",
      "11     Cardinals   110.30    88\n",
      "12       Dodgers    95.14    86\n",
      "13     White Sox    96.92    85\n",
      "14       Brewers    97.65    83\n",
      "15      Phillies   174.54    81\n",
      "16  Diamondbacks    74.28    81\n",
      "17       Pirates    63.43    79\n",
      "18        Padres    55.24    76\n",
      "19      Mariners    81.97    75\n",
      "20          Mets    93.35    74\n",
      "21     Blue Jays    75.48    73\n",
      "22        Royals    60.91    72\n",
      "23       Marlins   118.07    69\n",
      "24       Red Sox   173.18    69\n",
      "25       Indians    78.43    68\n",
      "26         Twins    94.08    66\n",
      "27       Rockies    78.06    64\n",
      "28          Cubs    88.19    61\n",
      "29        Astros    60.65    55\n",
      "\n",
      "Mean Payroll:  98.019\n",
      "Mean Wins   :  81\n",
      "\n",
      "Type A teams: Spent above average money with above average success\n",
      "Team       Payroll(M) Wins\n",
      "Yankees    197.96     95\n",
      "Giants     117.62     94\n",
      "Rangers    120.51     93\n",
      "Angels     154.49     89\n",
      "Tigers     132.30     88\n",
      "Cardinals  110.30     88\n",
      "\n",
      "Type B teams: Spent above average money with below average success\n",
      "Team       Payroll(M) Wins\n",
      "Marlins    118.07     69\n",
      "Red Sox    173.18     69\n",
      "\n",
      "Type C teams: Spent below average money with above average success\n",
      "Team       Payroll(M) Wins\n",
      "Nationals   81.34     98\n",
      "Reds        82.20     97\n",
      "Braves      83.31     94\n",
      "Athletics   55.37     94\n",
      "Orioles     81.43     93\n",
      "Rays        64.17     90\n",
      "Dodgers     95.14     86\n",
      "White Sox   96.92     85\n",
      "Brewers     97.65     83\n",
      "\n",
      "Type D teams: Spent below average money with below average success\n",
      "Team       Payroll(M) Wins\n",
      "Pirates     63.43     79\n",
      "Padres      55.24     76\n",
      "Mariners    81.97     75\n",
      "Mets        93.35     74\n",
      "Blue Jays   75.48     73\n",
      "Royals      60.91     72\n",
      "Indians     78.43     68\n",
      "Twins       94.08     66\n",
      "Rockies     78.06     64\n",
      "Cubs        88.19     61\n",
      "Astros      60.65     55\n"
     ]
    }
   ],
   "source": [
    "import pandas as pd\n",
    "import numpy as np\n",
    "import matplotlib.pyplot as plt\n",
    "import statistics\n",
    "mlbData = pd.read_csv(r'C:\\Users\\kabir\\Desktop\\Jupyter Stuff\\MLB 2012 Project\\mlb_teams_2012.csv')\n",
    "mlbData.columns = ['Team', 'Payroll', 'Wins']\n",
    "\n",
    "print(mlbData)\n",
    "print()\n",
    "\n",
    "meanPayroll = statistics.mean(mlbData.Payroll)\n",
    "meanWins = statistics.mean(mlbData.Wins)\n",
    "\n",
    "print(\"Mean Payroll: \", meanPayroll)\n",
    "print(\"Mean Wins   : \", meanWins)\n",
    "print()\n",
    "\n",
    "typeA = []\n",
    "typeB = []\n",
    "typeC = []\n",
    "typeD = []\n",
    "\n",
    "for i, row in mlbData.iterrows():\n",
    "    if(row.Payroll > meanPayroll and row.Wins > meanWins):\n",
    "        typeA.append(row)\n",
    "    elif(row.Payroll > meanPayroll and row.Wins < meanWins):\n",
    "        typeB.append(row)\n",
    "    elif(row.Payroll < meanPayroll and row.Wins > meanWins):\n",
    "        typeC.append(row)\n",
    "    elif(row.Payroll < meanPayroll and row.Wins < meanWins):\n",
    "        typeD.append(row)\n",
    "        \n",
    "print(\"Type A teams: Spent above average money with above average success\")\n",
    "print('{:10s} {:10s} {:3s}'.format(\"Team\", \"Payroll(M)\", \"Wins\"))\n",
    "for i in typeA:\n",
    "    print('{:10s} {:6.2f} {:6d}'.format(i.Team, i.Payroll, i.Wins))\n",
    "    \n",
    "print()\n",
    "print(\"Type B teams: Spent above average money with below average success\")\n",
    "print('{:10s} {:10s} {:3s}'.format(\"Team\", \"Payroll(M)\", \"Wins\"))\n",
    "for i in typeB:\n",
    "    print('{:10s} {:6.2f} {:6d}'.format(i.Team, i.Payroll, i.Wins))\n",
    "    \n",
    "print()\n",
    "print(\"Type C teams: Spent below average money with above average success\")\n",
    "print('{:10s} {:10s} {:3s}'.format(\"Team\", \"Payroll(M)\", \"Wins\"))\n",
    "for i in typeC:\n",
    "    print('{:10s} {:6.2f} {:6d}'.format(i.Team, i.Payroll, i.Wins))\n",
    "    \n",
    "print()\n",
    "print(\"Type D teams: Spent below average money with below average success\")\n",
    "print('{:10s} {:10s} {:3s}'.format(\"Team\", \"Payroll(M)\", \"Wins\"))\n",
    "for i in typeD:\n",
    "    print('{:10s} {:6.2f} {:6d}'.format(i.Team, i.Payroll, i.Wins))"
   ]
  },
  {
   "cell_type": "code",
   "execution_count": 23,
   "id": "8ff253d6",
   "metadata": {},
   "outputs": [
    {
     "data": {
      "text/plain": [
       "Text(0.5, 0, 'Payroll (Millions)')"
      ]
     },
     "execution_count": 23,
     "metadata": {},
     "output_type": "execute_result"
    },
    {
     "data": {
      "image/png": "[encoded data removed]",
      "text/plain": [
       "<Figure size 432x288 with 1 Axes>"
      ]
     },
     "metadata": {
      "needs_background": "light"
     },
     "output_type": "display_data"
    }
   ],
   "source": [
    "# Boxplot For Payroll Data\n",
    "payrollData = (mlbData.Payroll).to_frame()\n",
    "box1 = payrollData.boxplot(vert=False)\n",
    "box1.set_title(\"MLB Payroll 2012 (Millions)\")\n",
    "box1.set_xlabel(\"Payroll (Millions)\")"
   ]
  },
  {
   "cell_type": "code",
   "execution_count": 25,
   "id": "62eee38b",
   "metadata": {},
   "outputs": [
    {
     "data": {
      "text/plain": [
       "Text(0.5, 0, 'Wins (Regular Season)')"
      ]
     },
     "execution_count": 25,
     "metadata": {},
     "output_type": "execute_result"
    },
    {
     "data": {
      "image/png": "[encoded data removed]",
      "text/plain": [
       "<Figure size 432x288 with 1 Axes>"
      ]
     },
     "metadata": {
      "needs_background": "light"
     },
     "output_type": "display_data"
    }
   ],
   "source": [
    "# Boxplot For Wins Data\n",
    "winsData = (mlbData.Wins).to_frame()\n",
    "box2 = winsData.boxplot(vert=False)\n",
    "box2.set_title(\"MLB Wins 2012\")\n",
    "box2.set_xlabel(\"Wins (Regular Season)\")"
   ]
  },
  {
   "cell_type": "code",
   "execution_count": 24,
   "id": "af9b1af3",
   "metadata": {},
   "outputs": [
    {
     "data": {
      "text/plain": [
       "<matplotlib.legend.Legend at 0x1994e3be4f0>"
      ]
     },
     "execution_count": 24,
     "metadata": {},
     "output_type": "execute_result"
    },
    {
     "data": {
      "image/png": "[encoded data removed]",
      "text/plain": [
       "<Figure size 1080x360 with 2 Axes>"
      ]
     },
     "metadata": {
      "needs_background": "light"
     },
     "output_type": "display_data"
    }
   ],
   "source": [
    "# Scatter Plot for Different Groups\n",
    "TAData = pd.DataFrame(typeA)\n",
    "TBData = pd.DataFrame(typeB)\n",
    "TCData = pd.DataFrame(typeC)\n",
    "TDData = pd.DataFrame(typeD)\n",
    "\n",
    "fig, axes = plt.subplots(nrows = 1, ncols = 2, figsize = (15,5))\n",
    "\n",
    "axA = TAData.plot(kind = 'scatter', x = 'Payroll', y = 'Wins', color = 'r', ax=axes[1], subplots=True)\n",
    "axB = TBData.plot(kind = 'scatter', x = 'Payroll', y = 'Wins', color = 'g', ax=axes[1])\n",
    "axC = TCData.plot(kind = 'scatter', x = 'Payroll', y = 'Wins', color = 'b', ax=axes[1])\n",
    "axD = TDData.plot(kind = 'scatter', x = 'Payroll', y = 'Wins', color = 'y', ax=axes[1])\n",
    "\n",
    "axM = mlbData.plot(kind = 'scatter',x = 'Payroll', y = 'Wins', ax=axes[0] ,subplots=True)\n",
    "\n",
    "axes[1].set_title(\"MLB 2012 Payroll(Millions) vs. Number of Wins\")\n",
    "axes[1].set_xlabel(\"Payroll (Millions)\")\n",
    "axes[1].set_ylabel(\"Number of Wins in 2012 Season\")\n",
    "\n",
    "axes[0].set_title(\"MLB 2012 Payroll(Millions) vs. Number of Wins\")\n",
    "axes[0].set_xlabel(\"Payroll (Millions)\")\n",
    "axes[0].set_ylabel(\"Number of Wins in 2012 Season\")\n",
    "\n",
    "axes[1].legend(['Type A', 'Type B', 'Type C', 'Type D'])"
   ]
  }
 ],
 "metadata": {
  "kernelspec": {
   "display_name": "Python 3",
   "language": "python",
   "name": "python3"
  },
  "language_info": {
   "codemirror_mode": {
    "name": "ipython",
    "version": 3
   },
   "file_extension": ".py",
   "mimetype": "text/x-python",
   "name": "python",
   "nbconvert_exporter": "python",
   "pygments_lexer": "ipython3",
   "version": "3.8.8"
  }
 },
 "nbformat": 4,
 "nbformat_minor": 5
}
